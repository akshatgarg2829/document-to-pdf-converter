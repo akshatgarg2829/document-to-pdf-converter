{
 "cells": [
  {
   "cell_type": "code",
   "execution_count": 1,
   "id": "12498ca6",
   "metadata": {},
   "outputs": [
    {
     "name": "stdout",
     "output_type": "stream",
     "text": [
      "Requirement already satisfied: docx2pdf in c:\\users\\dell\\anaconda3\\lib\\site-packages (0.1.8)\n",
      "Requirement already satisfied: pywin32>=227 in c:\\users\\dell\\anaconda3\\lib\\site-packages (from docx2pdf) (302)\n",
      "Requirement already satisfied: tqdm>=4.41.0 in c:\\users\\dell\\anaconda3\\lib\\site-packages (from docx2pdf) (4.64.1)\n",
      "Requirement already satisfied: colorama in c:\\users\\dell\\appdata\\roaming\\python\\python39\\site-packages (from tqdm>=4.41.0->docx2pdf) (0.4.4)\n",
      "Note: you may need to restart the kernel to use updated packages.\n"
     ]
    }
   ],
   "source": [
    "pip install docx2pdf"
   ]
  },
  {
   "cell_type": "code",
   "execution_count": 2,
   "id": "da941a08",
   "metadata": {},
   "outputs": [],
   "source": [
    "import tkinter as tk"
   ]
  },
  {
   "cell_type": "code",
   "execution_count": 3,
   "id": "b9a94409",
   "metadata": {},
   "outputs": [],
   "source": [
    "import tkinter.ttk as ttk\n",
    "from tkinter.filedialog import askopenfile\n",
    "from tkinter.messagebox import showinfo\n",
    "from docx2pdf import convert"
   ]
  },
  {
   "cell_type": "code",
   "execution_count": 4,
   "id": "badbb472",
   "metadata": {},
   "outputs": [
    {
     "data": {
      "text/plain": [
       "''"
      ]
     },
     "execution_count": 4,
     "metadata": {},
     "output_type": "execute_result"
    }
   ],
   "source": [
    "# tkinter window object is setup and title of the window\n",
    "win = tk.Tk()\n",
    "win.title('Word to pdf converter')"
   ]
  },
  {
   "cell_type": "code",
   "execution_count": 5,
   "id": "ff02f71d",
   "metadata": {},
   "outputs": [],
   "source": [
    "def openfile():\n",
    "    file = askopenfile(filetypes=[('Word Files', '*.docx')])\n",
    "    convert(\n",
    "    file.name,   \n",
    "    r'C:\\Users\\dell\\Downloads\\pthon.pdf' \n",
    "    )   \n",
    "    showinfo(\"Done\", \"File successfully converted \")"
   ]
  },
  {
   "cell_type": "markdown",
   "id": "e85c3be0",
   "metadata": {},
   "source": [
    "GUI "
   ]
  },
  {
   "cell_type": "code",
   "execution_count": 6,
   "id": "9e621446",
   "metadata": {},
   "outputs": [],
   "source": [
    "label=tk.Label(win,text=\"Choose a file!\")\n",
    "label.grid(row=10,column=5,padx=5,pady=5)"
   ]
  },
  {
   "cell_type": "code",
   "execution_count": 7,
   "id": "d4bbd1d3",
   "metadata": {},
   "outputs": [
    {
     "data": {
      "application/vnd.jupyter.widget-view+json": {
       "model_id": "5be6e44ec54c4e82a1d6dbd099f9eea7",
       "version_major": 2,
       "version_minor": 0
      },
      "text/plain": [
       "  0%|          | 0/1 [00:00<?, ?it/s]"
      ]
     },
     "metadata": {},
     "output_type": "display_data"
    }
   ],
   "source": [
    "button=ttk.Button(win,text=\"Select\",width=30,command=openfile())\n",
    "button.grid(row=20,column=5,padx=5,pady=5)"
   ]
  },
  {
   "cell_type": "code",
   "execution_count": 8,
   "id": "f7d19ba9",
   "metadata": {},
   "outputs": [],
   "source": [
    "win.mainloop()\n",
    "#Ehello"
   ]
  }
 ],
 "metadata": {
  "kernelspec": {
   "display_name": "Python 3 (ipykernel)",
   "language": "python",
   "name": "python3"
  },
  "language_info": {
   "codemirror_mode": {
    "name": "ipython",
    "version": 3
   },
   "file_extension": ".py",
   "mimetype": "text/x-python",
   "name": "python",
   "nbconvert_exporter": "python",
   "pygments_lexer": "ipython3",
   "version": "3.9.13"
  }
 },
 "nbformat": 4,
 "nbformat_minor": 5
}
